{
 "cells": [
  {
   "cell_type": "code",
   "execution_count": 8,
   "metadata": {},
   "outputs": [
    {
     "name": "stdout",
     "output_type": "stream",
     "text": [
      "Requirement already satisfied: groq in c:\\users\\tech zone\\anaconda3\\envs\\env_llama\\lib\\site-packages (0.13.1)\n",
      "Requirement already satisfied: anyio<5,>=3.5.0 in c:\\users\\tech zone\\anaconda3\\envs\\env_llama\\lib\\site-packages (from groq) (4.7.0)\n",
      "Requirement already satisfied: distro<2,>=1.7.0 in c:\\users\\tech zone\\anaconda3\\envs\\env_llama\\lib\\site-packages (from groq) (1.9.0)\n",
      "Requirement already satisfied: httpx<1,>=0.23.0 in c:\\users\\tech zone\\anaconda3\\envs\\env_llama\\lib\\site-packages (from groq) (0.28.1)\n",
      "Requirement already satisfied: pydantic<3,>=1.9.0 in c:\\users\\tech zone\\anaconda3\\envs\\env_llama\\lib\\site-packages (from groq) (2.10.3)\n",
      "Requirement already satisfied: sniffio in c:\\users\\tech zone\\anaconda3\\envs\\env_llama\\lib\\site-packages (from groq) (1.3.1)\n",
      "Requirement already satisfied: typing-extensions<5,>=4.10 in c:\\users\\tech zone\\anaconda3\\envs\\env_llama\\lib\\site-packages (from groq) (4.12.2)\n",
      "Requirement already satisfied: exceptiongroup>=1.0.2 in c:\\users\\tech zone\\anaconda3\\envs\\env_llama\\lib\\site-packages (from anyio<5,>=3.5.0->groq) (1.2.2)\n",
      "Requirement already satisfied: idna>=2.8 in c:\\users\\tech zone\\anaconda3\\envs\\env_llama\\lib\\site-packages (from anyio<5,>=3.5.0->groq) (3.10)\n",
      "Requirement already satisfied: certifi in c:\\users\\tech zone\\anaconda3\\envs\\env_llama\\lib\\site-packages (from httpx<1,>=0.23.0->groq) (2024.12.14)\n",
      "Requirement already satisfied: httpcore==1.* in c:\\users\\tech zone\\anaconda3\\envs\\env_llama\\lib\\site-packages (from httpx<1,>=0.23.0->groq) (1.0.7)\n",
      "Requirement already satisfied: h11<0.15,>=0.13 in c:\\users\\tech zone\\anaconda3\\envs\\env_llama\\lib\\site-packages (from httpcore==1.*->httpx<1,>=0.23.0->groq) (0.14.0)\n",
      "Requirement already satisfied: annotated-types>=0.6.0 in c:\\users\\tech zone\\anaconda3\\envs\\env_llama\\lib\\site-packages (from pydantic<3,>=1.9.0->groq) (0.7.0)\n",
      "Requirement already satisfied: pydantic-core==2.27.1 in c:\\users\\tech zone\\anaconda3\\envs\\env_llama\\lib\\site-packages (from pydantic<3,>=1.9.0->groq) (2.27.1)\n",
      "Note: you may need to restart the kernel to use updated packages.\n"
     ]
    }
   ],
   "source": [
    "pip install groq"
   ]
  },
  {
   "cell_type": "code",
   "execution_count": 9,
   "metadata": {},
   "outputs": [
    {
     "name": "stdout",
     "output_type": "stream",
     "text": [
      "Requirement already satisfied: aisuite in c:\\users\\tech zone\\anaconda3\\envs\\env_llama\\lib\\site-packages (0.1.6)\n",
      "Note: you may need to restart the kernel to use updated packages.\n"
     ]
    }
   ],
   "source": [
    "pip install aisuite"
   ]
  },
  {
   "cell_type": "code",
   "execution_count": 11,
   "metadata": {},
   "outputs": [
    {
     "name": "stdout",
     "output_type": "stream",
     "text": [
      "Imran Khan is a well-known Pakistani politician, former cricketer, and current Prime Minister of Pakistan (since August 2020). Here are some key aspects of his life and career:\n",
      "\n",
      "**Early Life and Education**\n",
      "\n",
      "Imran Khan was born on October 5, 1952, in Lahore, Pakistan. He graduated from Keble College, Oxford, with a degree in Philosophy, Politics, and Economics.\n",
      "\n",
      "**Cricket Career**\n",
      "\n",
      "Imran Khan is a former Pakistani cricketer and captain of the Pakistani national cricket team. He was one of the greatest fast bowlers of his time and led the team to victory in the 1992 Cricket World Cup.\n",
      "\n",
      "**Politics**\n",
      "\n",
      "Imran Khan has been an active politician since the 1990s. He was elected to the National Assembly of Pakistan as a candidate of the Pakistan Tehreek-e-Insaf (PTI) party in 1997. He served as the Prime Minister of Pakistan from 2018 to 2020. He has been vocal about his anti-corruption and anti-narcotics policies.\n",
      "\n",
      "**Notable Achievements**\n",
      "\n",
      "Some of Imran Khan's notable achievements include:\n",
      "\n",
      "1. **Prime Minister of Pakistan**: He became the 22nd Prime Minister of Pakistan in 2018 after defeating the incumbent Prime Minister, Nawaz Sharif, in the general elections.\n",
      "2. **Cricket World Cup winner**: He led the Pakistani national team to victory in the 1992 Cricket World Cup.\n",
      "3. **Anti-corruption crusade**: He has been a vocal advocate for anti-corruption measures and has launched several initiatives to curb corruption and bring those responsible to justice.\n",
      "\n",
      "**Controversies and Criticisms**\n",
      "\n",
      "Imran Khan's government has been criticized for several reasons, including:\n",
      "\n",
      "1. **Killing of anti-government critics**: Some critics have accused Imran Khan's government of violence and intimidation against his opponents and critics.\n",
      "2. **Disqualification of opposition leaders**: His government disqualified several opposition leaders, including Prime Minister Nawaz Sharif, on corruption charges.\n",
      "3. **Tendency to rule autocratically**: Some critics have accused him of eroding democratic institutions and restricting individual freedoms.\n",
      "\n",
      "These are just some of the key aspects of Imran Khan's life and career.\n"
     ]
    }
   ],
   "source": [
    "import aisuite as ai\n",
    "client = ai.Client()\n",
    "\n",
    "provider = \"groq\"\n",
    "model_id = \"llama-3.2-3b-preview\"\n",
    "\n",
    "messages = [\n",
    "    {\"role\": \"system\", \"content\": \"You are a helpful assistant.\"},\n",
    "    {\"role\": \"user\", \"content\": \"What did you know about imran khan in pakistan ?\"},\n",
    "]\n",
    "\n",
    "response = client.chat.completions.create(\n",
    "    model=f\"{provider}:{model_id}\",\n",
    "    messages=messages,\n",
    ")\n",
    "\n",
    "print(response.choices[0].message.content)"
   ]
  }
 ],
 "metadata": {
  "kernelspec": {
   "display_name": "env_llama",
   "language": "python",
   "name": "python3"
  },
  "language_info": {
   "codemirror_mode": {
    "name": "ipython",
    "version": 3
   },
   "file_extension": ".py",
   "mimetype": "text/x-python",
   "name": "python",
   "nbconvert_exporter": "python",
   "pygments_lexer": "ipython3",
   "version": "3.10.16"
  }
 },
 "nbformat": 4,
 "nbformat_minor": 2
}
