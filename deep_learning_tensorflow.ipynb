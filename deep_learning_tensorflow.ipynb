{
  "nbformat": 4,
  "nbformat_minor": 0,
  "metadata": {
    "colab": {
      "provenance": [],
      "authorship_tag": "ABX9TyNerZwTkM97dTXAvnwZgvDW",
      "include_colab_link": true
    },
    "kernelspec": {
      "name": "python3",
      "display_name": "Python 3"
    },
    "language_info": {
      "name": "python"
    }
  },
  "cells": [
    {
      "cell_type": "markdown",
      "metadata": {
        "id": "view-in-github",
        "colab_type": "text"
      },
      "source": [
        "<a href=\"https://colab.research.google.com/github/Muhammad-javed440/04-ai-suit/blob/master/deep_learning_tensorflow.ipynb\" target=\"_parent\"><img src=\"https://colab.research.google.com/assets/colab-badge.svg\" alt=\"Open In Colab\"/></a>"
      ]
    },
    {
      "cell_type": "code",
      "execution_count": 2,
      "metadata": {
        "colab": {
          "base_uri": "https://localhost:8080/"
        },
        "id": "hdl87V1HsBZp",
        "outputId": "18b706fc-9388-4456-a191-d3668ed5210c"
      },
      "outputs": [
        {
          "output_type": "stream",
          "name": "stdout",
          "text": [
            "2.17.1\n"
          ]
        }
      ],
      "source": [
        "import tensorflow as tf\n",
        "print(tf.__version__)"
      ]
    },
    {
      "cell_type": "code",
      "source": [
        "# Load data set of fashion mnist\n",
        "fmnist = tf.keras.datasets.fashion_mnist"
      ],
      "metadata": {
        "id": "ketpsbywsVpo"
      },
      "execution_count": 3,
      "outputs": []
    },
    {
      "cell_type": "code",
      "source": [
        "print(fmnist)"
      ],
      "metadata": {
        "colab": {
          "base_uri": "https://localhost:8080/"
        },
        "id": "7x8M0I1-s0ef",
        "outputId": "eac41dcf-0c44-4671-fed8-154753f2d2ad"
      },
      "execution_count": 4,
      "outputs": [
        {
          "output_type": "stream",
          "name": "stdout",
          "text": [
            "<module 'keras.api.datasets.fashion_mnist' from '/usr/local/lib/python3.10/dist-packages/keras/api/datasets/fashion_mnist/__init__.py'>\n"
          ]
        }
      ]
    },
    {
      "cell_type": "code",
      "source": [
        "# Load the training and test split of the fation mnist data sets\n",
        "(training_images, training_labels), (test_images, test_labels) = fmnist.load_data()"
      ],
      "metadata": {
        "colab": {
          "base_uri": "https://localhost:8080/"
        },
        "id": "B5Pe4xputYib",
        "outputId": "3d6e4a9f-e1b6-44ca-97d3-a21de09ccb11"
      },
      "execution_count": 5,
      "outputs": [
        {
          "output_type": "stream",
          "name": "stdout",
          "text": [
            "Downloading data from https://storage.googleapis.com/tensorflow/tf-keras-datasets/train-labels-idx1-ubyte.gz\n",
            "\u001b[1m29515/29515\u001b[0m \u001b[32m━━━━━━━━━━━━━━━━━━━━\u001b[0m\u001b[37m\u001b[0m \u001b[1m0s\u001b[0m 0us/step\n",
            "Downloading data from https://storage.googleapis.com/tensorflow/tf-keras-datasets/train-images-idx3-ubyte.gz\n",
            "\u001b[1m26421880/26421880\u001b[0m \u001b[32m━━━━━━━━━━━━━━━━━━━━\u001b[0m\u001b[37m\u001b[0m \u001b[1m0s\u001b[0m 0us/step\n",
            "Downloading data from https://storage.googleapis.com/tensorflow/tf-keras-datasets/t10k-labels-idx1-ubyte.gz\n",
            "\u001b[1m5148/5148\u001b[0m \u001b[32m━━━━━━━━━━━━━━━━━━━━\u001b[0m\u001b[37m\u001b[0m \u001b[1m0s\u001b[0m 1us/step\n",
            "Downloading data from https://storage.googleapis.com/tensorflow/tf-keras-datasets/t10k-images-idx3-ubyte.gz\n",
            "\u001b[1m4422102/4422102\u001b[0m \u001b[32m━━━━━━━━━━━━━━━━━━━━\u001b[0m\u001b[37m\u001b[0m \u001b[1m0s\u001b[0m 0us/step\n"
          ]
        }
      ]
    },
    {
      "cell_type": "code",
      "source": [
        "import numpy as np\n",
        "import matplotlib.pyplot as plt\n",
        "\n",
        "# you can put between 0 to 59999\n",
        "index = 560\n",
        "# Set number of characterw per now when printing\n",
        "np.set_printoptions(linewidth=320)\n",
        "\n",
        "# Print the label and image\n",
        "print(f'Label: {training_labels[index]}')\n",
        "print(f'\\nImage: {training_images[index]}')\n",
        "\n",
        "# Plot the image\n",
        "plt.imshow(training_images[index])"
      ],
      "metadata": {
        "colab": {
          "base_uri": "https://localhost:8080/",
          "height": 968
        },
        "id": "JioYDNiuuVBE",
        "outputId": "fc43768c-4721-4e7e-dbaf-70f513450fe3"
      },
      "execution_count": 6,
      "outputs": [
        {
          "output_type": "stream",
          "name": "stdout",
          "text": [
            "Label: 6\n",
            "\n",
            "Image: [[  0   0   0   0   0   0   0   0   0   0  19 164  99  92  86 132 132   7   0   0   0   0   0   0   1   0   0   0]\n",
            " [  0   0   0   0   0   0   2   0   0  11  64 159 156 159 129  55 116 125  37   0   0   0   1   0   1   0   0   0]\n",
            " [  0   0   0   0   0   0   0   1  79 123   8 119 155 119 147 177 107 129 165  92  11   0   0   0   0   0   0   0]\n",
            " [  0   0   0   0   2   0  56 116  22 116 104  77 171 244 255 159  82 147  83  79  62 138   4   0   4   0   0   0]\n",
            " [  0   1   1   1   0  22 140 108  68 104 113 105  61 171 104  65 140 122  90 107 113 114  55   0   0   0   0   0]\n",
            " [  0   2   1   2   0  83  95 108 117 104  92 122 111 117 131  80 152  87 108  86 120 134  95   0   0   0   0   0]\n",
            " [  0   0   0   0   2 101  19 110 114 114  96 104 113  89 120 108  85  96 101  95  90 156 111  23   0   1   0   0]\n",
            " [  0   1   0   0  25 123 126 138 113  41  96 111 101  83 147 101  86 104 110  32  41 159 113  83   0   0   0   0]\n",
            " [  0   0   1   0  77  98 152 143  46  23 119 105 105  95 117  90  87  95 113  53  87  80  49 128   0   0   0   0]\n",
            " [  0   0   0   0 122  95 170 152 101  92 113 111 102  85 135  83  99  96  77  89  96 172 117 123  31   0   0   0]\n",
            " [  0   0   0  17 116  29 195 146  87  95 119 122  26   1 125  76 111  74  41  87 119 201 144 107  79   0   0   0]\n",
            " [  0   1   0  61  98   0 225 164  73 117 113 104  80  59 134 101 110 107 120 104 101 235 150  95 119   0   0   0]\n",
            " [  0   0   0 101 110  64 243 162   0  68 128  98 114 107 117  95 116 105 113  82   7 219 155  85 126  43   0   0]\n",
            " [  0   0   0 135 101 119 237 119   1  82 131 104  96  99 125 105 122   8  56 111   5 211 168  11  86 101   0   0]\n",
            " [  0   0  19 141  89 122 198  87  96 108 120 101   5  49 135   1  68  67  79 117  41 199 178  68  70 137   2   0]\n",
            " [  0   0  50  31  62 153 165  44  87 107 122 110  58  86 140  67  68 116  95  90  59 181 170 113 116 137  35   0]\n",
            " [  0   0 134  87 116 140 198  79  96  99 120 102 102 108 113 123  96  82 101  95  58 178 162  98  90 114 170   0]\n",
            " [  0  44 165 128 195 122 205  90  58   2 117 102  92 107 120 110  90  99 111  31   0 189 164  59  20 111 144  10]\n",
            " [  0 153  92  31 120 137  99  93  68  53 122 108 117 105 126 120 101  99 111  74  37 147 164 132  89  31 119  83]\n",
            " [  0  43  76  87  61 161  82  96  99 126 107 119  64   4 129  37  52 108  92  92 114  70 134 114  76  80  89  28]\n",
            " [  0   0   2  70 198 167  37 123  93 122 113 120  82  44 141  55  65 104  96 101 108  93  62 172 108  58   0   0]\n",
            " [  0   1   0   0  65   0  41 135 101  74 113 113 111 116 123 132 107  96  93  41  95 116   0  44  13   0   0   0]\n",
            " [  0   0   0   0   0   0  65 135  49   1 110 125 117  96 135 102 116 101  86   1  85 122   0   0   0   0   1   0]\n",
            " [  0   0   0   0   2   0  61 131  95 101 119 137  31  37 138   8  83 110  98  89 119 113   0   0   1   0   0   0]\n",
            " [  0   0   0   0   0   0  65 125  89  99 110 129  77  82 146  67 107 104  95 101  98 116   0   0   1   0   0   0]\n",
            " [  0   0   0   0   1   0  64 110 101 116 117 137 107 104 131 125 117 104 107  89 117 107   0   0   1   1   0   0]\n",
            " [  0   0   0   0   1   0  62 117  99  32  50 152 110 129 155 125 116 107  80   7  98 122   0   0   0   0   0   0]\n",
            " [  0   0   0   0   0   0  50 113 119  53  98 125  67  64  64  55  93 120 105  32  98  98   0   0   0   0   0   0]]\n"
          ]
        },
        {
          "output_type": "execute_result",
          "data": {
            "text/plain": [
              "<matplotlib.image.AxesImage at 0x78f4e871dc90>"
            ]
          },
          "metadata": {},
          "execution_count": 6
        },
        {
          "output_type": "display_data",
          "data": {
            "text/plain": [
              "<Figure size 640x480 with 1 Axes>"
            ],
            "image/png": "[encoded data removed]"
          },
          "metadata": {}
        }
      ]
    },
    {
      "cell_type": "code",
      "source": [
        "# Normalize the pixel values of the train  and test images (0-1) ranged\n",
        "training_images = training_images / 255.0\n",
        "test_images = test_images / 255.0"
      ],
      "metadata": {
        "id": "zMUCTZO9xZvx"
      },
      "execution_count": 7,
      "outputs": []
    },
    {
      "cell_type": "code",
      "source": [
        "# Build the classifcation model\n",
        "model = tf.keras.models.Sequential([tf.keras.layers.Flatten(),\n",
        "                                    tf.keras.layers.Dense(128, activation=tf.nn.relu),\n",
        "                                    tf.keras.layers.Dense(10, activation=tf.nn.softmax)])"
      ],
      "metadata": {
        "id": "086r6UTAx27V"
      },
      "execution_count": 8,
      "outputs": []
    },
    {
      "cell_type": "code",
      "source": [
        "# Declare sample  inputs and convert to tensor\n",
        "inputs = np.array([[1.0, 3.0, 4.0, 2.0]])\n",
        "inputs = tf.convert_to_tensor(inputs)\n",
        "print(f'input to softmax function: {inputs.numpy()}')\n",
        "\n",
        "# Feed the inputs to softmax activation function\n",
        "outputs = tf.keras.activations.softmax(inputs)\n",
        "print(f'output of softmax function: {outputs.numpy()}')\n",
        "\n",
        "# Get the sum of all values after softmax\n",
        "sum = tf.reduce_sum(outputs)\n",
        "print(f'sum of outputs: {sum}')\n",
        "\n",
        "# Get the index with highest value\n",
        "prediction = np.argmax(outputs)\n",
        "print(f'class with highest probability: {prediction}')"
      ],
      "metadata": {
        "id": "xNPKNWzszEUn",
        "colab": {
          "base_uri": "https://localhost:8080/"
        },
        "outputId": "a78817a0-9d2e-4455-b39f-e95ee28f3634"
      },
      "execution_count": 9,
      "outputs": [
        {
          "output_type": "stream",
          "name": "stdout",
          "text": [
            "input to softmax function: [[1. 3. 4. 2.]]\n",
            "output of softmax function: [[0.0320586  0.23688282 0.64391426 0.08714432]]\n",
            "sum of outputs: 1.0\n",
            "class with highest probability: 2\n"
          ]
        }
      ]
    },
    {
      "cell_type": "code",
      "source": [
        "model.compile(optimizer = tf.optimizers.Adam(),\n",
        "              loss = 'sparse_categorical_crossentropy',\n",
        "              metrics=['accuracy'])\n",
        "\n",
        "model.fit(training_images, training_labels, epochs=5)"
      ],
      "metadata": {
        "id": "nHad2GAOzIZq",
        "colab": {
          "base_uri": "https://localhost:8080/"
        },
        "outputId": "77c46eb6-9049-46ed-82fc-76e41a01ef7a"
      },
      "execution_count": 10,
      "outputs": [
        {
          "output_type": "stream",
          "name": "stdout",
          "text": [
            "Epoch 1/5\n",
            "\u001b[1m1875/1875\u001b[0m \u001b[32m━━━━━━━━━━━━━━━━━━━━\u001b[0m\u001b[37m\u001b[0m \u001b[1m9s\u001b[0m 4ms/step - accuracy: 0.7835 - loss: 0.6242\n",
            "Epoch 2/5\n",
            "\u001b[1m1875/1875\u001b[0m \u001b[32m━━━━━━━━━━━━━━━━━━━━\u001b[0m\u001b[37m\u001b[0m \u001b[1m6s\u001b[0m 3ms/step - accuracy: 0.8624 - loss: 0.3814\n",
            "Epoch 3/5\n",
            "\u001b[1m1875/1875\u001b[0m \u001b[32m━━━━━━━━━━━━━━━━━━━━\u001b[0m\u001b[37m\u001b[0m \u001b[1m8s\u001b[0m 4ms/step - accuracy: 0.8770 - loss: 0.3407\n",
            "Epoch 4/5\n",
            "\u001b[1m1875/1875\u001b[0m \u001b[32m━━━━━━━━━━━━━━━━━━━━\u001b[0m\u001b[37m\u001b[0m \u001b[1m6s\u001b[0m 3ms/step - accuracy: 0.8845 - loss: 0.3148\n",
            "Epoch 5/5\n",
            "\u001b[1m1875/1875\u001b[0m \u001b[32m━━━━━━━━━━━━━━━━━━━━\u001b[0m\u001b[37m\u001b[0m \u001b[1m11s\u001b[0m 4ms/step - accuracy: 0.8927 - loss: 0.2882\n"
          ]
        },
        {
          "output_type": "execute_result",
          "data": {
            "text/plain": [
              "<keras.src.callbacks.history.History at 0x78f4e8683940>"
            ]
          },
          "metadata": {},
          "execution_count": 10
        }
      ]
    },
    {
      "cell_type": "code",
      "source": [
        "# Evaluate the model on unseen data\n",
        "model.evaluate(test_images, test_labels)"
      ],
      "metadata": {
        "id": "_mWpYAACzPKT",
        "colab": {
          "base_uri": "https://localhost:8080/"
        },
        "outputId": "09cf561b-8bff-42fa-e245-ed1ba096309a"
      },
      "execution_count": 11,
      "outputs": [
        {
          "output_type": "stream",
          "name": "stdout",
          "text": [
            "\u001b[1m313/313\u001b[0m \u001b[32m━━━━━━━━━━━━━━━━━━━━\u001b[0m\u001b[37m\u001b[0m \u001b[1m1s\u001b[0m 2ms/step - accuracy: 0.8720 - loss: 0.3527\n"
          ]
        },
        {
          "output_type": "execute_result",
          "data": {
            "text/plain": [
              "[0.35519781708717346, 0.8712000250816345]"
            ]
          },
          "metadata": {},
          "execution_count": 11
        }
      ]
    },
    {
      "cell_type": "markdown",
      "source": [],
      "metadata": {
        "id": "__IVnbmwzP9e"
      }
    },
    {
      "cell_type": "code",
      "source": [],
      "metadata": {
        "id": "hXNUKykxy59C"
      },
      "execution_count": null,
      "outputs": []
    }
  ]
}